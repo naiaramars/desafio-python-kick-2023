{
 "cells": [
  {
   "cell_type": "code",
   "execution_count": 2,
   "metadata": {},
   "outputs": [
    {
     "name": "stderr",
     "output_type": "stream",
     "text": [
      "C:\\Users\\nmart\\AppData\\Local\\Temp\\ipykernel_59768\\501649513.py:10: UserWarning: Substituting font arial by core font helvetica\n",
      "  pdf.set_font('Arial', 'B', 16)\n",
      "C:\\Users\\nmart\\AppData\\Local\\Temp\\ipykernel_59768\\501649513.py:11: DeprecationWarning: The parameter \"ln\" is deprecated. Instead of ln=True use new_x=XPos.LMARGIN, new_y=YPos.NEXT.\n",
      "  pdf.cell(0, 10, title, ln=True, align='C')\n",
      "C:\\Users\\nmart\\AppData\\Local\\Temp\\ipykernel_59768\\501649513.py:16: UserWarning: Substituting font arial by core font helvetica\n",
      "  pdf.set_font('Arial', '', 12)\n"
     ]
    },
    {
     "name": "stdout",
     "output_type": "stream",
     "text": [
      "O PDF foi criado com sucesso: relatorio.pdf\n"
     ]
    },
    {
     "name": "stderr",
     "output_type": "stream",
     "text": [
      "C:\\Users\\nmart\\AppData\\Local\\Temp\\ipykernel_59768\\501649513.py:33: UserWarning: Substituting font arial by core font helvetica\n",
      "  pdf.set_font('Arial', 'B', 16)\n",
      "C:\\Users\\nmart\\AppData\\Local\\Temp\\ipykernel_59768\\501649513.py:34: DeprecationWarning: The parameter \"ln\" is deprecated. Instead of ln=True use new_x=XPos.LMARGIN, new_y=YPos.NEXT.\n",
      "  pdf.cell(0, 10, 'Conclusão', ln=True, align='C')\n",
      "C:\\Users\\nmart\\AppData\\Local\\Temp\\ipykernel_59768\\501649513.py:35: UserWarning: Substituting font arial by core font helvetica\n",
      "  pdf.set_font('Arial', '', 12)\n"
     ]
    }
   ],
   "source": [
    "from fpdf import FPDF\n",
    "\n",
    "def add_cover_page(pdf, image_path):\n",
    "    pdf.add_page()\n",
    "    pdf.image(image_path, x=10, y=20, w=190)\n",
    "\n",
    "def add_page_with_title_graph_report(pdf, title, graph_path, report):\n",
    "    pdf.add_page()\n",
    "    \n",
    "    pdf.set_font('Arial', 'B', 16)\n",
    "    pdf.cell(0, 10, title, ln=True, align='C')\n",
    "    \n",
    "    pdf.image(graph_path, x=20, y=pdf.get_y() + 20, w=160)\n",
    "    \n",
    "    pdf.set_y(pdf.get_y() + 140)  \n",
    "    pdf.set_font('Arial', '', 12)\n",
    "    pdf.multi_cell(0, 10, report, align='L')\n",
    "\n",
    "pdf = FPDF()\n",
    "\n",
    "add_cover_page(pdf, 'educacao.png')\n",
    "\n",
    "add_page_with_title_graph_report(pdf, 'Desigualdade Regional na Oferta de Cursos', 'grafico_01.png', '''\n",
    "O gráfico de barras horizontal apresenta uma representação visual da desigualdade regional na oferta de cursos no Brasil. Ao analisar a média de vagas autorizadas por região, é possível observar claramente as disparidades existentes. A região Sudeste se destaca com a maior média de vagas autorizadas, seguida pela região Sul. Por outro lado, as regiões Norte e Nordeste apresentam médias inferiores, destacando desafios significativos em termos de acesso e disponibilidade de cursos nessas áreas. A região Centro-Oeste também está abaixo da média nacional. Essa análise ressalta a importância de políticas educacionais que busquem promover a igualdade regional no acesso à educação superior, garantindo oportunidades equitativas para todos os brasileiros, independentemente da região em que residam.''')\n",
    "\n",
    "add_page_with_title_graph_report(pdf, 'Relatório sobre a Distribuição de Cursos por Categoria Administrativa', 'grafico_02.png', '''\n",
    "O gráfico de barras exibe a distribuição de cursos de ensino superior por categoria administrativa no Brasil. Os resultados revelam que a categoria \"Privada com fins lucrativos\" possui o maior número de cursos, seguida de perto pela categoria \"Privada sem fins lucrativos\". As instituições de ensino públicas, tanto estaduais quanto federais, também estão bem representadas, indicando uma diversidade no cenário educacional brasileiro. A análise ressalta a presença significativa de instituições privadas e demonstra a importância de considerar a variedade de opções educacionais disponíveis para os estudantes em todo o país.''')\n",
    "\n",
    "add_page_with_title_graph_report(pdf, 'Taxa de Conclusão de Curso por Região', 'grafico_03.png', '''\n",
    "A análise da taxa de conclusão de cursos revelou disparidades regionais significativas, com a região Sudeste apresentando uma taxa relativamente alta em comparação com o Nordeste. Estas discrepâncias destacam a necessidade de políticas educacionais equitativas para promover igualdade de oportunidades. O desafio persistente reside na melhoria da qualidade da educação e na promoção da inclusão em todas as regiões do Brasil. Investimentos contínuos em infraestrutura, formação de professores e acesso a recursos educacionais são fundamentais para alcançar uma educação de qualidade e conclusão de cursos mais uniformes em todo o país.''')\n",
    "\n",
    "pdf.add_page()\n",
    "pdf.set_font('Arial', 'B', 16)\n",
    "pdf.cell(0, 10, 'Conclusão', ln=True, align='C')\n",
    "pdf.set_font('Arial', '', 12)\n",
    "pdf.multi_cell(0, 10, '''\n",
    "Os relatórios apresentados destacam desafios significativos no sistema de ensino superior do Brasil. A análise da oferta de cursos por região revela desigualdades marcantes, com o Sudeste e o Sul liderando em termos de vagas autorizadas, enquanto o Norte, o Nordeste e o Centro-Oeste enfrentam deficiências de acesso. Essas discrepâncias ressaltam a necessidade urgente de políticas educacionais que promovam a igualdade regional no acesso à educação superior.\n",
    "\n",
    "Além disso, as taxas de conclusão de cursos também variam significativamente, com o Sudeste apresentando um desempenho superior ao Nordeste. Isso destaca a importância de políticas educacionais voltadas para a melhoria da qualidade da educação e a promoção da inclusão em todas as regiões do país. Investimentos contínuos em infraestrutura, formação de professores e recursos educacionais são essenciais para garantir taxas de conclusão de cursos mais uniformes em todo o Brasil.\n",
    "\n",
    "Por fim, a diversidade na distribuição de cursos por categoria administrativa demonstra a ampla gama de opções educacionais disponíveis no Brasil, incluindo instituições públicas e privadas com diferentes fins. Isso enfatiza a importância de considerar a variedade de escolhas disponíveis para os estudantes, permitindo que eles façam escolhas informadas de acordo com suas necessidades e aspirações acadêmicas.\n",
    "''', align='L')\n",
    "\n",
    "pdf_file = 'relatorio.pdf'\n",
    "pdf.output(pdf_file)\n",
    "\n",
    "print(f'O PDF foi criado com sucesso: {pdf_file}')\n"
   ]
  }
 ],
 "metadata": {
  "kernelspec": {
   "display_name": "venv",
   "language": "python",
   "name": "python3"
  },
  "language_info": {
   "codemirror_mode": {
    "name": "ipython",
    "version": 3
   },
   "file_extension": ".py",
   "mimetype": "text/x-python",
   "name": "python",
   "nbconvert_exporter": "python",
   "pygments_lexer": "ipython3",
   "version": "3.11.4"
  },
  "orig_nbformat": 4
 },
 "nbformat": 4,
 "nbformat_minor": 2
}
